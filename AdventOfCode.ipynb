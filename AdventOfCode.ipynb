{
 "cells": [
  {
   "cell_type": "markdown",
   "id": "6a2eb06b",
   "metadata": {},
   "source": [
    "# Day 1"
   ]
  },
  {
   "cell_type": "code",
   "execution_count": 7,
   "id": "79c0b4c9",
   "metadata": {
    "scrolled": true
   },
   "outputs": [
    {
     "name": "stdout",
     "output_type": "stream",
     "text": [
      "69883\n"
     ]
    }
   ],
   "source": [
    "# Part 1\n",
    "\n",
    "with open('input_1.txt') as f:\n",
    "    lines = f.read().splitlines()\n",
    "\n",
    "    maxFood = 0\n",
    "    currentFood = 0\n",
    "    for i in range(0, len(lines)):\n",
    "        if(lines[i] == ''):\n",
    "            if currentFood > maxFood:\n",
    "                maxFood = currentFood\n",
    "            currentFood = 0\n",
    "        else:\n",
    "            currentFood += int(lines[i])\n",
    "    \n",
    "    print(maxFood)\n",
    "    \n",
    "    \n",
    "    f.close()"
   ]
  },
  {
   "cell_type": "code",
   "execution_count": 27,
   "id": "aa44f482",
   "metadata": {},
   "outputs": [
    {
     "name": "stdout",
     "output_type": "stream",
     "text": [
      "207576\n"
     ]
    }
   ],
   "source": [
    "# Part 2\n",
    "\n",
    "with open('input_1.txt') as f:\n",
    "    lines = f.read().splitlines()\n",
    "\n",
    "    all_elves = []\n",
    "    current_elf = 0\n",
    "    for i in range(0, len(lines)):\n",
    "        if(lines[i] == ''):\n",
    "            all_elves.append(current_elf)\n",
    "            current_elf = 0\n",
    "        else:\n",
    "            current_elf += int(lines[i])\n",
    "    \n",
    "    top_elves = sorted(all_elves)\n",
    "    \n",
    "    \n",
    "    print(sum(top_elves[-3:]))\n",
    "    \n",
    "    \n",
    "    f.close()"
   ]
  },
  {
   "cell_type": "markdown",
   "id": "39fa2173",
   "metadata": {},
   "source": [
    "# Day 2"
   ]
  },
  {
   "cell_type": "code",
   "execution_count": 34,
   "id": "2bbaad3b",
   "metadata": {},
   "outputs": [
    {
     "name": "stdout",
     "output_type": "stream",
     "text": [
      "15632\n"
     ]
    }
   ],
   "source": [
    "# Part 1\n",
    "\n",
    "\"\"\"\n",
    "A = Rock = 1\n",
    "B = Paper = 2\n",
    "C = Scissors = 3\n",
    "\n",
    "X = Rock = 1\n",
    "Y = Paper = 2\n",
    "Z = Scissors = 3\n",
    "\n",
    "Lose = 0\n",
    "Draw = 3\n",
    "Win = 6\n",
    "\n",
    "\"\"\"\n",
    "\n",
    "vals = {\"X\": 1, \"Y\": 2, \"Z\": 3}\n",
    "wins = {\"AX\":0, \"AY\": 1, \"AZ\": -1,\n",
    "       \"BX\": -1, \"BY\": 0, \"BZ\": 1,\n",
    "       \"CX\": 1, \"CY\": -1, \"CZ\": 0}\n",
    "\n",
    "def calculateScore(opponent, player):\n",
    "    res = wins[f\"{opponent}{player}\"]\n",
    "    if(res == 0):\n",
    "        # Draw\n",
    "        return vals[player] + 3\n",
    "    elif(res == 1):\n",
    "        # Win\n",
    "        return vals[player] + 6\n",
    "    else:\n",
    "        # Lose\n",
    "        return vals[player] + 0\n",
    "\n",
    "    \n",
    "\n",
    "with open('input_2.txt') as f:\n",
    "    lines = f.read().splitlines()\n",
    "    \n",
    "    totalScore = 0\n",
    "    for i in range(0, len(lines)):\n",
    "        opponent = lines[i][0]\n",
    "        player = lines[i][2]\n",
    "        score = calculateScore(opponent,player)\n",
    "        totalScore += score\n",
    "    \n",
    "    print(totalScore)\n",
    "    \n",
    "    f.close()"
   ]
  },
  {
   "cell_type": "code",
   "execution_count": 47,
   "id": "f5e21ebd",
   "metadata": {},
   "outputs": [
    {
     "name": "stdout",
     "output_type": "stream",
     "text": [
      "14416\n"
     ]
    }
   ],
   "source": [
    "# Part 2\n",
    "\n",
    "\"\"\"\n",
    "A = Rock = 1\n",
    "B = Paper = 2\n",
    "C = Scissors = 3\n",
    "\n",
    "X = lose\n",
    "Y = draw\n",
    "Z = win\n",
    "\n",
    "Lose = 0\n",
    "Draw = 3\n",
    "Win = 6\n",
    "\n",
    "\"\"\"\n",
    "\n",
    "vals = {\"A\": 1, \"B\": 2, \"C\": 3}\n",
    "wins = {\"A\":{\"A\":0, \"B\": 1, \"C\": -1},\n",
    "       \"B\":{\"A\": -1, \"B\": 0, \"C\": 1,},\n",
    "       \"C\":{\"A\": 1, \"B\": -1, \"C\": 0}}\n",
    "\n",
    "def getKeyFromVal(dic, val):\n",
    "    return list(dic.keys())[list(dic.values()).index(val)]\n",
    "\n",
    "\n",
    "\n",
    "def calculateScore(opponent, outcome):\n",
    "\n",
    "    if(outcome == \"X\"):\n",
    "        # Lose\n",
    "        return vals[getKeyFromVal(wins[opponent], -1)] + 0\n",
    "    elif(outcome == \"Y\"):\n",
    "        # Draw\n",
    "        return vals[getKeyFromVal(wins[opponent], 0)] + 3\n",
    "    else:\n",
    "        # Win\n",
    "        return vals[getKeyFromVal(wins[opponent], 1)] + 6\n",
    "    \n",
    "    \n",
    "\n",
    "with open('input_2.txt') as f:\n",
    "    lines = f.read().splitlines()\n",
    "    \n",
    "    totalScore = 0\n",
    "    for i in range(0, len(lines)):\n",
    "        opponent = lines[i][0]\n",
    "        outcome = lines[i][2]\n",
    "        score = calculateScore(opponent,outcome)\n",
    "        totalScore += score\n",
    "    \n",
    "    print(totalScore)\n",
    "    \n",
    "    f.close()"
   ]
  },
  {
   "cell_type": "code",
   "execution_count": null,
   "id": "770e4405",
   "metadata": {},
   "outputs": [],
   "source": []
  },
  {
   "cell_type": "code",
   "execution_count": null,
   "id": "f9932538",
   "metadata": {},
   "outputs": [],
   "source": []
  },
  {
   "cell_type": "code",
   "execution_count": null,
   "id": "86d739ef",
   "metadata": {},
   "outputs": [],
   "source": []
  },
  {
   "cell_type": "code",
   "execution_count": null,
   "id": "0bfa78ed",
   "metadata": {},
   "outputs": [],
   "source": []
  }
 ],
 "metadata": {
  "kernelspec": {
   "display_name": "Python 3 (ipykernel)",
   "language": "python",
   "name": "python3"
  },
  "language_info": {
   "codemirror_mode": {
    "name": "ipython",
    "version": 3
   },
   "file_extension": ".py",
   "mimetype": "text/x-python",
   "name": "python",
   "nbconvert_exporter": "python",
   "pygments_lexer": "ipython3",
   "version": "3.9.7"
  }
 },
 "nbformat": 4,
 "nbformat_minor": 5
}
